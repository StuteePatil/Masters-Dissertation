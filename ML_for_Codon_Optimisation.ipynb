{
  "nbformat": 4,
  "nbformat_minor": 0,
  "metadata": {
    "colab": {
      "name": "ML_for_Codon_Optimisation.ipynb",
      "provenance": [],
      "collapsed_sections": [],
      "include_colab_link": true
    },
    "kernelspec": {
      "name": "python3",
      "display_name": "Python 3"
    },
    "accelerator": "GPU"
  },
  "cells": [
    {
      "cell_type": "markdown",
      "metadata": {
        "id": "view-in-github",
        "colab_type": "text"
      },
      "source": [
        "<a href=\"https://colab.research.google.com/github/StuteePatil/Masters-Dissertation/blob/master/ML_for_Codon_Optimisation.ipynb\" target=\"_parent\"><img src=\"https://colab.research.google.com/assets/colab-badge.svg\" alt=\"Open In Colab\"/></a>"
      ]
    },
    {
      "cell_type": "code",
      "metadata": {
        "id": "-Y5ZEsMebsUN",
        "colab_type": "code",
        "colab": {
          "resources": {
            "http://localhost:8080/nbextensions/google.colab/files.js": {
              "data": "Ly8gQ29weXJpZ2h0IDIwMTcgR29vZ2xlIExMQwovLwovLyBMaWNlbnNlZCB1bmRlciB0aGUgQXBhY2hlIExpY2Vuc2UsIFZlcnNpb24gMi4wICh0aGUgIkxpY2Vuc2UiKTsKLy8geW91IG1heSBub3QgdXNlIHRoaXMgZmlsZSBleGNlcHQgaW4gY29tcGxpYW5jZSB3aXRoIHRoZSBMaWNlbnNlLgovLyBZb3UgbWF5IG9idGFpbiBhIGNvcHkgb2YgdGhlIExpY2Vuc2UgYXQKLy8KLy8gICAgICBodHRwOi8vd3d3LmFwYWNoZS5vcmcvbGljZW5zZXMvTElDRU5TRS0yLjAKLy8KLy8gVW5sZXNzIHJlcXVpcmVkIGJ5IGFwcGxpY2FibGUgbGF3IG9yIGFncmVlZCB0byBpbiB3cml0aW5nLCBzb2Z0d2FyZQovLyBkaXN0cmlidXRlZCB1bmRlciB0aGUgTGljZW5zZSBpcyBkaXN0cmlidXRlZCBvbiBhbiAiQVMgSVMiIEJBU0lTLAovLyBXSVRIT1VUIFdBUlJBTlRJRVMgT1IgQ09ORElUSU9OUyBPRiBBTlkgS0lORCwgZWl0aGVyIGV4cHJlc3Mgb3IgaW1wbGllZC4KLy8gU2VlIHRoZSBMaWNlbnNlIGZvciB0aGUgc3BlY2lmaWMgbGFuZ3VhZ2UgZ292ZXJuaW5nIHBlcm1pc3Npb25zIGFuZAovLyBsaW1pdGF0aW9ucyB1bmRlciB0aGUgTGljZW5zZS4KCi8qKgogKiBAZmlsZW92ZXJ2aWV3IEhlbHBlcnMgZm9yIGdvb2dsZS5jb2xhYiBQeXRob24gbW9kdWxlLgogKi8KKGZ1bmN0aW9uKHNjb3BlKSB7CmZ1bmN0aW9uIHNwYW4odGV4dCwgc3R5bGVBdHRyaWJ1dGVzID0ge30pIHsKICBjb25zdCBlbGVtZW50ID0gZG9jdW1lbnQuY3JlYXRlRWxlbWVudCgnc3BhbicpOwogIGVsZW1lbnQudGV4dENvbnRlbnQgPSB0ZXh0OwogIGZvciAoY29uc3Qga2V5IG9mIE9iamVjdC5rZXlzKHN0eWxlQXR0cmlidXRlcykpIHsKICAgIGVsZW1lbnQuc3R5bGVba2V5XSA9IHN0eWxlQXR0cmlidXRlc1trZXldOwogIH0KICByZXR1cm4gZWxlbWVudDsKfQoKLy8gTWF4IG51bWJlciBvZiBieXRlcyB3aGljaCB3aWxsIGJlIHVwbG9hZGVkIGF0IGEgdGltZS4KY29uc3QgTUFYX1BBWUxPQURfU0laRSA9IDEwMCAqIDEwMjQ7CgpmdW5jdGlvbiBfdXBsb2FkRmlsZXMoaW5wdXRJZCwgb3V0cHV0SWQpIHsKICBjb25zdCBzdGVwcyA9IHVwbG9hZEZpbGVzU3RlcChpbnB1dElkLCBvdXRwdXRJZCk7CiAgY29uc3Qgb3V0cHV0RWxlbWVudCA9IGRvY3VtZW50LmdldEVsZW1lbnRCeUlkKG91dHB1dElkKTsKICAvLyBDYWNoZSBzdGVwcyBvbiB0aGUgb3V0cHV0RWxlbWVudCB0byBtYWtlIGl0IGF2YWlsYWJsZSBmb3IgdGhlIG5leHQgY2FsbAogIC8vIHRvIHVwbG9hZEZpbGVzQ29udGludWUgZnJvbSBQeXRob24uCiAgb3V0cHV0RWxlbWVudC5zdGVwcyA9IHN0ZXBzOwoKICByZXR1cm4gX3VwbG9hZEZpbGVzQ29udGludWUob3V0cHV0SWQpOwp9CgovLyBUaGlzIGlzIHJvdWdobHkgYW4gYXN5bmMgZ2VuZXJhdG9yIChub3Qgc3VwcG9ydGVkIGluIHRoZSBicm93c2VyIHlldCksCi8vIHdoZXJlIHRoZXJlIGFyZSBtdWx0aXBsZSBhc3luY2hyb25vdXMgc3RlcHMgYW5kIHRoZSBQeXRob24gc2lkZSBpcyBnb2luZwovLyB0byBwb2xsIGZvciBjb21wbGV0aW9uIG9mIGVhY2ggc3RlcC4KLy8gVGhpcyB1c2VzIGEgUHJvbWlzZSB0byBibG9jayB0aGUgcHl0aG9uIHNpZGUgb24gY29tcGxldGlvbiBvZiBlYWNoIHN0ZXAsCi8vIHRoZW4gcGFzc2VzIHRoZSByZXN1bHQgb2YgdGhlIHByZXZpb3VzIHN0ZXAgYXMgdGhlIGlucHV0IHRvIHRoZSBuZXh0IHN0ZXAuCmZ1bmN0aW9uIF91cGxvYWRGaWxlc0NvbnRpbnVlKG91dHB1dElkKSB7CiAgY29uc3Qgb3V0cHV0RWxlbWVudCA9IGRvY3VtZW50LmdldEVsZW1lbnRCeUlkKG91dHB1dElkKTsKICBjb25zdCBzdGVwcyA9IG91dHB1dEVsZW1lbnQuc3RlcHM7CgogIGNvbnN0IG5leHQgPSBzdGVwcy5uZXh0KG91dHB1dEVsZW1lbnQubGFzdFByb21pc2VWYWx1ZSk7CiAgcmV0dXJuIFByb21pc2UucmVzb2x2ZShuZXh0LnZhbHVlLnByb21pc2UpLnRoZW4oKHZhbHVlKSA9PiB7CiAgICAvLyBDYWNoZSB0aGUgbGFzdCBwcm9taXNlIHZhbHVlIHRvIG1ha2UgaXQgYXZhaWxhYmxlIHRvIHRoZSBuZXh0CiAgICAvLyBzdGVwIG9mIHRoZSBnZW5lcmF0b3IuCiAgICBvdXRwdXRFbGVtZW50Lmxhc3RQcm9taXNlVmFsdWUgPSB2YWx1ZTsKICAgIHJldHVybiBuZXh0LnZhbHVlLnJlc3BvbnNlOwogIH0pOwp9CgovKioKICogR2VuZXJhdG9yIGZ1bmN0aW9uIHdoaWNoIGlzIGNhbGxlZCBiZXR3ZWVuIGVhY2ggYXN5bmMgc3RlcCBvZiB0aGUgdXBsb2FkCiAqIHByb2Nlc3MuCiAqIEBwYXJhbSB7c3RyaW5nfSBpbnB1dElkIEVsZW1lbnQgSUQgb2YgdGhlIGlucHV0IGZpbGUgcGlja2VyIGVsZW1lbnQuCiAqIEBwYXJhbSB7c3RyaW5nfSBvdXRwdXRJZCBFbGVtZW50IElEIG9mIHRoZSBvdXRwdXQgZGlzcGxheS4KICogQHJldHVybiB7IUl0ZXJhYmxlPCFPYmplY3Q+fSBJdGVyYWJsZSBvZiBuZXh0IHN0ZXBzLgogKi8KZnVuY3Rpb24qIHVwbG9hZEZpbGVzU3RlcChpbnB1dElkLCBvdXRwdXRJZCkgewogIGNvbnN0IGlucHV0RWxlbWVudCA9IGRvY3VtZW50LmdldEVsZW1lbnRCeUlkKGlucHV0SWQpOwogIGlucHV0RWxlbWVudC5kaXNhYmxlZCA9IGZhbHNlOwoKICBjb25zdCBvdXRwdXRFbGVtZW50ID0gZG9jdW1lbnQuZ2V0RWxlbWVudEJ5SWQob3V0cHV0SWQpOwogIG91dHB1dEVsZW1lbnQuaW5uZXJIVE1MID0gJyc7CgogIGNvbnN0IHBpY2tlZFByb21pc2UgPSBuZXcgUHJvbWlzZSgocmVzb2x2ZSkgPT4gewogICAgaW5wdXRFbGVtZW50LmFkZEV2ZW50TGlzdGVuZXIoJ2NoYW5nZScsIChlKSA9PiB7CiAgICAgIHJlc29sdmUoZS50YXJnZXQuZmlsZXMpOwogICAgfSk7CiAgfSk7CgogIGNvbnN0IGNhbmNlbCA9IGRvY3VtZW50LmNyZWF0ZUVsZW1lbnQoJ2J1dHRvbicpOwogIGlucHV0RWxlbWVudC5wYXJlbnRFbGVtZW50LmFwcGVuZENoaWxkKGNhbmNlbCk7CiAgY2FuY2VsLnRleHRDb250ZW50ID0gJ0NhbmNlbCB1cGxvYWQnOwogIGNvbnN0IGNhbmNlbFByb21pc2UgPSBuZXcgUHJvbWlzZSgocmVzb2x2ZSkgPT4gewogICAgY2FuY2VsLm9uY2xpY2sgPSAoKSA9PiB7CiAgICAgIHJlc29sdmUobnVsbCk7CiAgICB9OwogIH0pOwoKICAvLyBXYWl0IGZvciB0aGUgdXNlciB0byBwaWNrIHRoZSBmaWxlcy4KICBjb25zdCBmaWxlcyA9IHlpZWxkIHsKICAgIHByb21pc2U6IFByb21pc2UucmFjZShbcGlja2VkUHJvbWlzZSwgY2FuY2VsUHJvbWlzZV0pLAogICAgcmVzcG9uc2U6IHsKICAgICAgYWN0aW9uOiAnc3RhcnRpbmcnLAogICAgfQogIH07CgogIGNhbmNlbC5yZW1vdmUoKTsKCiAgLy8gRGlzYWJsZSB0aGUgaW5wdXQgZWxlbWVudCBzaW5jZSBmdXJ0aGVyIHBpY2tzIGFyZSBub3QgYWxsb3dlZC4KICBpbnB1dEVsZW1lbnQuZGlzYWJsZWQgPSB0cnVlOwoKICBpZiAoIWZpbGVzKSB7CiAgICByZXR1cm4gewogICAgICByZXNwb25zZTogewogICAgICAgIGFjdGlvbjogJ2NvbXBsZXRlJywKICAgICAgfQogICAgfTsKICB9CgogIGZvciAoY29uc3QgZmlsZSBvZiBmaWxlcykgewogICAgY29uc3QgbGkgPSBkb2N1bWVudC5jcmVhdGVFbGVtZW50KCdsaScpOwogICAgbGkuYXBwZW5kKHNwYW4oZmlsZS5uYW1lLCB7Zm9udFdlaWdodDogJ2JvbGQnfSkpOwogICAgbGkuYXBwZW5kKHNwYW4oCiAgICAgICAgYCgke2ZpbGUudHlwZSB8fCAnbi9hJ30pIC0gJHtmaWxlLnNpemV9IGJ5dGVzLCBgICsKICAgICAgICBgbGFzdCBtb2RpZmllZDogJHsKICAgICAgICAgICAgZmlsZS5sYXN0TW9kaWZpZWREYXRlID8gZmlsZS5sYXN0TW9kaWZpZWREYXRlLnRvTG9jYWxlRGF0ZVN0cmluZygpIDoKICAgICAgICAgICAgICAgICAgICAgICAgICAgICAgICAgICAgJ24vYSd9IC0gYCkpOwogICAgY29uc3QgcGVyY2VudCA9IHNwYW4oJzAlIGRvbmUnKTsKICAgIGxpLmFwcGVuZENoaWxkKHBlcmNlbnQpOwoKICAgIG91dHB1dEVsZW1lbnQuYXBwZW5kQ2hpbGQobGkpOwoKICAgIGNvbnN0IGZpbGVEYXRhUHJvbWlzZSA9IG5ldyBQcm9taXNlKChyZXNvbHZlKSA9PiB7CiAgICAgIGNvbnN0IHJlYWRlciA9IG5ldyBGaWxlUmVhZGVyKCk7CiAgICAgIHJlYWRlci5vbmxvYWQgPSAoZSkgPT4gewogICAgICAgIHJlc29sdmUoZS50YXJnZXQucmVzdWx0KTsKICAgICAgfTsKICAgICAgcmVhZGVyLnJlYWRBc0FycmF5QnVmZmVyKGZpbGUpOwogICAgfSk7CiAgICAvLyBXYWl0IGZvciB0aGUgZGF0YSB0byBiZSByZWFkeS4KICAgIGxldCBmaWxlRGF0YSA9IHlpZWxkIHsKICAgICAgcHJvbWlzZTogZmlsZURhdGFQcm9taXNlLAogICAgICByZXNwb25zZTogewogICAgICAgIGFjdGlvbjogJ2NvbnRpbnVlJywKICAgICAgfQogICAgfTsKCiAgICAvLyBVc2UgYSBjaHVua2VkIHNlbmRpbmcgdG8gYXZvaWQgbWVzc2FnZSBzaXplIGxpbWl0cy4gU2VlIGIvNjIxMTU2NjAuCiAgICBsZXQgcG9zaXRpb24gPSAwOwogICAgd2hpbGUgKHBvc2l0aW9uIDwgZmlsZURhdGEuYnl0ZUxlbmd0aCkgewogICAgICBjb25zdCBsZW5ndGggPSBNYXRoLm1pbihmaWxlRGF0YS5ieXRlTGVuZ3RoIC0gcG9zaXRpb24sIE1BWF9QQVlMT0FEX1NJWkUpOwogICAgICBjb25zdCBjaHVuayA9IG5ldyBVaW50OEFycmF5KGZpbGVEYXRhLCBwb3NpdGlvbiwgbGVuZ3RoKTsKICAgICAgcG9zaXRpb24gKz0gbGVuZ3RoOwoKICAgICAgY29uc3QgYmFzZTY0ID0gYnRvYShTdHJpbmcuZnJvbUNoYXJDb2RlLmFwcGx5KG51bGwsIGNodW5rKSk7CiAgICAgIHlpZWxkIHsKICAgICAgICByZXNwb25zZTogewogICAgICAgICAgYWN0aW9uOiAnYXBwZW5kJywKICAgICAgICAgIGZpbGU6IGZpbGUubmFtZSwKICAgICAgICAgIGRhdGE6IGJhc2U2NCwKICAgICAgICB9LAogICAgICB9OwogICAgICBwZXJjZW50LnRleHRDb250ZW50ID0KICAgICAgICAgIGAke01hdGgucm91bmQoKHBvc2l0aW9uIC8gZmlsZURhdGEuYnl0ZUxlbmd0aCkgKiAxMDApfSUgZG9uZWA7CiAgICB9CiAgfQoKICAvLyBBbGwgZG9uZS4KICB5aWVsZCB7CiAgICByZXNwb25zZTogewogICAgICBhY3Rpb246ICdjb21wbGV0ZScsCiAgICB9CiAgfTsKfQoKc2NvcGUuZ29vZ2xlID0gc2NvcGUuZ29vZ2xlIHx8IHt9OwpzY29wZS5nb29nbGUuY29sYWIgPSBzY29wZS5nb29nbGUuY29sYWIgfHwge307CnNjb3BlLmdvb2dsZS5jb2xhYi5fZmlsZXMgPSB7CiAgX3VwbG9hZEZpbGVzLAogIF91cGxvYWRGaWxlc0NvbnRpbnVlLAp9Owp9KShzZWxmKTsK",
              "ok": true,
              "headers": [
                [
                  "content-type",
                  "application/javascript"
                ]
              ],
              "status": 200,
              "status_text": ""
            }
          },
          "base_uri": "https://localhost:8080/",
          "height": 72
        },
        "outputId": "4a5c0af0-c4d4-425f-fa84-f94f6d3d1273"
      },
      "source": [
        "# Uploading the GZ file downloaded from Saccharomyces Genome Database (SGD)\n",
        "from google.colab import files\n",
        "file = files.upload()"
      ],
      "execution_count": 1,
      "outputs": [
        {
          "output_type": "display_data",
          "data": {
            "text/html": [
              "\n",
              "     <input type=\"file\" id=\"files-d30a5a00-15a5-4d07-aacc-a2a7cd9fe821\" name=\"files[]\" multiple disabled\n",
              "        style=\"border:none\" />\n",
              "     <output id=\"result-d30a5a00-15a5-4d07-aacc-a2a7cd9fe821\">\n",
              "      Upload widget is only available when the cell has been executed in the\n",
              "      current browser session. Please rerun this cell to enable.\n",
              "      </output>\n",
              "      <script src=\"/nbextensions/google.colab/files.js\"></script> "
            ],
            "text/plain": [
              "<IPython.core.display.HTML object>"
            ]
          },
          "metadata": {
            "tags": []
          }
        },
        {
          "output_type": "stream",
          "text": [
            "Saving orf_coding_all.fasta.gz to orf_coding_all.fasta.gz\n"
          ],
          "name": "stdout"
        }
      ]
    },
    {
      "cell_type": "code",
      "metadata": {
        "id": "KnNnpe6eY7VW",
        "colab_type": "code",
        "colab": {}
      },
      "source": [
        "# unzipping the GZ file to obtain FASTA file that contains sequence data for Yeast protein coding sequences\n",
        "import gzip\n",
        "import shutil\n",
        "\n",
        "with gzip.open('orf_coding_all.fasta.gz', 'r') as f:\n",
        "    file_content = f.read()\n",
        "\n",
        "with gzip.open('orf_coding_all.fasta.gz', 'rb') as f_in:        # opens the GZ file\n",
        "    with open('orf_coding_all.fasta', 'wb') as f_out:           # unzips the GZ file to retrieve FASTA file\n",
        "        shutil.copyfileobj(f_in, f_out)\n",
        "\n",
        "# convert the file to a utf-8 format for readability\n",
        "f = file_content.decode(\"utf-8\", \"strict\")  "
      ],
      "execution_count": 2,
      "outputs": []
    },
    {
      "cell_type": "code",
      "metadata": {
        "id": "tzcYniajX3up",
        "colab_type": "code",
        "colab": {
          "base_uri": "https://localhost:8080/",
          "height": 51
        },
        "outputId": "63604941-dcb8-481f-ba38-9c9a6ec5dd65"
      },
      "source": [
        "# installing biopython package used for reading biological sequence data\n",
        "!pip install biopython\n",
        "\n",
        "from Bio import SeqIO\n",
        "import math\n",
        "import csv\n",
        "\n",
        "# parsing FASTA file using a Biopython API to retrieve sequence data\n",
        "dna_sequences = SeqIO.parse(\"orf_coding_all.fasta\", \"fasta\")\n",
        "\n",
        "# creating a CSV file for storing the sequence data read from FASTA file\n",
        "f = open('yeast_cds.csv','w', newline='')\n",
        "writer = csv.writer(f)\n",
        "\n",
        "header = ['ID', 'Description', 'Coding Sequence']       \n",
        "writer.writerow(header)                     # creates headers for CSV file\n",
        "\n",
        "# iteratively read individual sequence data and store in Excel sheet\n",
        "for cur_record in dna_sequences:\n",
        "    data = []\n",
        "    \n",
        "    data.append(cur_record.name)            # retrieves sequence name, denoted by a unique ID\n",
        "    data.append(cur_record.description)     # retrieves description of the sequence that follows sequence ID\n",
        "    data.append(cur_record.seq)             # retrieves nucleotide sequence\n",
        "\n",
        "    writer.writerow(data)                   # appends the data to CSV file\n",
        "f.close()"
      ],
      "execution_count": 3,
      "outputs": [
        {
          "output_type": "stream",
          "text": [
            "Requirement already satisfied: biopython in /usr/local/lib/python3.6/dist-packages (1.78)\n",
            "Requirement already satisfied: numpy in /usr/local/lib/python3.6/dist-packages (from biopython) (1.18.5)\n"
          ],
          "name": "stdout"
        }
      ]
    },
    {
      "cell_type": "code",
      "metadata": {
        "id": "XfZrk6LFfTvz",
        "colab_type": "code",
        "colab": {}
      },
      "source": [
        "# function to convert a nucleotide sequence into a sequence of codons \n",
        "# by grouping three consecutive nucleotides to form a codon\n",
        "\n",
        "clen = 3\n",
        "\n",
        "def codon(seq):\n",
        "    codon_lst = []\n",
        "    for i in range(len(seq)//3):\n",
        "        cd = seq[i*clen : (i+1)*clen]\n",
        "        codon_lst.append(cd)\n",
        "    return codon_lst"
      ],
      "execution_count": 4,
      "outputs": []
    },
    {
      "cell_type": "code",
      "metadata": {
        "id": "O9SgyjXIgDub",
        "colab_type": "code",
        "colab": {}
      },
      "source": [
        "# function to translate a sequence of codons into the corresponding sequence of amino acids\n",
        "\n",
        "def translate(seq): \n",
        "    # dictionary that maps each codon to corresponding amino acid it codes for\n",
        "    table = { \n",
        "        'ATA':'I', 'ATC':'I', 'ATT':'I', 'ATG':'M', \n",
        "        'ACA':'T', 'ACC':'T', 'ACG':'T', 'ACT':'T', \n",
        "        'AAC':'N', 'AAT':'N', 'AAA':'K', 'AAG':'K', \n",
        "        'AGC':'S', 'AGT':'S', 'AGA':'R', 'AGG':'R',\n",
        "        'CTA':'L', 'CTC':'L', 'CTG':'L', 'CTT':'L', \n",
        "        'CCA':'P', 'CCC':'P', 'CCG':'P', 'CCT':'P', \n",
        "        'CAC':'H', 'CAT':'H', 'CAA':'Q', 'CAG':'Q', \n",
        "        'CGA':'R', 'CGC':'R', 'CGG':'R', 'CGT':'R', \n",
        "        'GTA':'V', 'GTC':'V', 'GTG':'V', 'GTT':'V', \n",
        "        'GCA':'A', 'GCC':'A', 'GCG':'A', 'GCT':'A', \n",
        "        'GAC':'D', 'GAT':'D', 'GAA':'E', 'GAG':'E', \n",
        "        'GGA':'G', 'GGC':'G', 'GGG':'G', 'GGT':'G', \n",
        "        'TCA':'S', 'TCC':'S', 'TCG':'S', 'TCT':'S', \n",
        "        'TTC':'F', 'TTT':'F', 'TTA':'L', 'TTG':'L', \n",
        "        'TAC':'Y', 'TAT':'Y', 'TAA':'_', 'TAG':'_', \n",
        "        'TGC':'C', 'TGT':'C', 'TGA':'_', 'TGG':'W', \n",
        "    } \n",
        "    \n",
        "    protein = [] \n",
        "    for i in seq:\n",
        "        protein.append(table[i])  \n",
        "    return protein "
      ],
      "execution_count": 5,
      "outputs": []
    },
    {
      "cell_type": "code",
      "metadata": {
        "id": "qNjU6ELCeloH",
        "colab_type": "code",
        "colab": {
          "base_uri": "https://localhost:8080/",
          "height": 204
        },
        "outputId": "efd95e48-f715-4c1e-abb9-a002610b4145"
      },
      "source": [
        "import pandas as pd\n",
        "# load Yeast data and filter to get only coding sequences\n",
        "data = pd.read_csv('yeast_cds.csv')\n",
        "\n",
        "# extracting only sequence data\n",
        "df = data['Coding Sequence']\n",
        "print(df.head(10))"
      ],
      "execution_count": 6,
      "outputs": [
        {
          "output_type": "stream",
          "text": [
            "0    ATGGTACTGACGATTTATCCTGACGAACTCGTACAAATAGTGTCTG...\n",
            "1    ATGGAGCAAAATGGCCTTGACCACGACAGCAGATCTAGCATCGATA...\n",
            "2    ATGGCATCCACCGATTTCTCCAAGATTGAAACTTTGAAACAATTAA...\n",
            "3    ATGGGTGTCACCAGCGGTGGCCTTAACTTCAAAGATACCGTCTTCA...\n",
            "4    ATGTCAAAAGCTGTCGGTATTGATTTAGGTACAACATACTCGTGTG...\n",
            "5    ATGATCAAATCTACAATTGCTCTACCCTCTTTCTTCATTGTTTTAA...\n",
            "6    ATGACTTTGGCTTTTAATATGCAACGGTTGGTGTTTCGTAATTTGA...\n",
            "7    ATGGAGCCAGAGAGCATAGGCGATGTGGGGAACCATGCCCAGGATG...\n",
            "8    ATGCTACCCTATATGGACCAAGTACTAAGGGCATTTTATCAGAGCA...\n",
            "9    ATGCCTGCTGTCTTGAGAACCAGGTCCAAAGAATCCTCTATAGAGC...\n",
            "Name: Coding Sequence, dtype: object\n"
          ],
          "name": "stdout"
        }
      ]
    },
    {
      "cell_type": "code",
      "metadata": {
        "id": "t_V1ErDUgYZq",
        "colab_type": "code",
        "colab": {
          "base_uri": "https://localhost:8080/",
          "height": 51
        },
        "outputId": "264a0c42-a159-41a3-ebbb-55b2a6856acd"
      },
      "source": [
        "# converting a nucleotide sequence to a sequence of codons and amino acids\n",
        "aa_seq = []\n",
        "cd_seq = []\n",
        "\n",
        "for seq in df:\n",
        "    cds = codon(seq)                # converts 'seq' to sequence of codons\n",
        "    cd_seq.append(cds)\n",
        "    aa_seq.append(translate(cds))   # resulting sequence of codons, 'cds', is translated to a sequence of amino acids\n",
        "\n",
        "print(len(aa_seq))\n",
        "print(len(cd_seq))"
      ],
      "execution_count": 7,
      "outputs": [
        {
          "output_type": "stream",
          "text": [
            "6713\n",
            "6713\n"
          ],
          "name": "stdout"
        }
      ]
    },
    {
      "cell_type": "code",
      "metadata": {
        "id": "wBBfka_SoyAG",
        "colab_type": "code",
        "colab": {
          "base_uri": "https://localhost:8080/",
          "height": 51
        },
        "outputId": "9acba071-6b0e-4f0f-e0a5-c5a10511c984"
      },
      "source": [
        "# splitting Yeast data for training and validation\n",
        "train_size = int(len(aa_seq) * 0.8)     # 80% of the Yeast sequences are used for training, and the rest 20% are used for validation\n",
        "\n",
        "train_aas = aa_seq[:train_size]         # amino acid sequences used as input training data\n",
        "train_cds = cd_seq[:train_size]         # codon sequences used as output training data\n",
        "\n",
        "val_aas = aa_seq[train_size:]           # amino acid sequences used as input validation data\n",
        "val_cds = cd_seq[train_size:]           # codon sequences used as output validation data\n",
        "\n",
        "print('Train:', len(train_aas), len(train_cds))\n",
        "print('Test:', len(val_aas), len(val_cds))"
      ],
      "execution_count": 8,
      "outputs": [
        {
          "output_type": "stream",
          "text": [
            "Train: 5370 5370\n",
            "Test: 1343 1343\n"
          ],
          "name": "stdout"
        }
      ]
    },
    {
      "cell_type": "code",
      "metadata": {
        "id": "imx-XWwQoyGe",
        "colab_type": "code",
        "colab": {
          "base_uri": "https://localhost:8080/",
          "height": 51
        },
        "outputId": "13c3ef7d-c98c-4b65-8506-c41aabc88dbf"
      },
      "source": [
        "import itertools\n",
        "\n",
        "# identifies all unique amino acids in the sequence data\n",
        "vocab = set(itertools.chain(*[[w for w in s] for s in train_aas])) \n",
        "\n",
        "# identifies all unique codons in the sequence data\n",
        "tags = set(itertools.chain(*[[w for w in s] for s in train_cds]))\n",
        "\n",
        "sentenecs_lens = map(len, train_aas)\n",
        "\n",
        "# prints number of unique amino acids and codons respectively\n",
        "print('Number of amino acids: ', len(vocab))        # includes 20 amino acids + stop codons = 21\n",
        "print('Number of codons: ', len(tags))              # 64 possible nucleotide triplets"
      ],
      "execution_count": 9,
      "outputs": [
        {
          "output_type": "stream",
          "text": [
            "Number of amino acids:  21\n",
            "Number of codons:  64\n"
          ],
          "name": "stdout"
        }
      ]
    },
    {
      "cell_type": "code",
      "metadata": {
        "id": "84EDbfu_oyNu",
        "colab_type": "code",
        "colab": {
          "base_uri": "https://localhost:8080/",
          "height": 71
        },
        "outputId": "121b68d3-3267-40b0-d236-8a515ac41cd2"
      },
      "source": [
        "from keras.preprocessing.text import Tokenizer\n",
        "from keras.preprocessing.sequence import pad_sequences\n",
        "from numpy import zeros\n",
        "\n",
        "MAX_LEN = 2000              # standard value of sequence length considered for model development\n",
        "\n",
        "# Tokenize amino acid sequences (input sequences)\n",
        "VOCAB_SIZE = len(vocab)     # gives the number of unique amino acids, which is 21\n",
        "\n",
        "aa_tokenizer = Tokenizer(num_words=VOCAB_SIZE, filters=[])           # define a tokeniser for pre-processing amino acid sequences\n",
        "aa_tokenizer.fit_on_texts(map(lambda s: ' '.join(s), train_aas))\n",
        "word_index = aa_tokenizer.word_index                                 # integer encoding of each type of amino acid to a unique integer value\n",
        "word_index['__PADDING__'] = 0                                           # 0 value is assigned to dummy used for padding sequences\n",
        "index_word = {i:w for w, i in word_index.items()}                       # reverse mapping of integers to amino acids\n",
        "print('Unique tokens:', (word_index))\n",
        "\n",
        "train_sequences = aa_tokenizer.texts_to_sequences(map(lambda s: ' '.join(s), train_aas))     # tokenising input training data\n",
        "val_sequences = aa_tokenizer.texts_to_sequences(map(lambda s: ' '.join(s), val_aas))         # tokenising input validation data\n",
        "\n",
        "train_sequences_padded = pad_sequences(train_sequences, maxlen=MAX_LEN)     # padding input training data to obatin sequences of length MAX_LEN = 2000\n",
        "val_sequences_padded = pad_sequences(val_sequences, maxlen=MAX_LEN)         # padding input validation data to obatin sequences of length MAX_LEN = 2000\n",
        "\n",
        "print(train_sequences_padded.shape, val_sequences_padded.shape)"
      ],
      "execution_count": 10,
      "outputs": [
        {
          "output_type": "stream",
          "text": [
            "Unique tokens: {'l': 1, 's': 2, 'k': 3, 'i': 4, 'e': 5, 'n': 6, 't': 7, 'd': 8, 'v': 9, 'a': 10, 'g': 11, 'f': 12, 'r': 13, 'p': 14, 'q': 15, 'y': 16, 'h': 17, 'm': 18, 'c': 19, 'w': 20, '_': 21, '__PADDING__': 0}\n",
            "(5370, 2000) (1343, 2000)\n"
          ],
          "name": "stdout"
        }
      ]
    },
    {
      "cell_type": "code",
      "metadata": {
        "id": "uomiGrbOuIip",
        "colab_type": "code",
        "colab": {
          "base_uri": "https://localhost:8080/",
          "height": 71
        },
        "outputId": "21f2701d-7028-4343-f9dd-3838b831de11"
      },
      "source": [
        "# Tokenize codon sequences (output sequences)\n",
        "import numpy as np\n",
        "\n",
        "TAG_SIZE = len(tags)        # gives the number of unique codons, which is 64\n",
        "\n",
        "cd_tokenizer = Tokenizer(num_words= TAG_SIZE, filters='', lower=False)    # define a tokeniser for pre-processing codon sequences\n",
        "cd_tokenizer.fit_on_texts(map(lambda s: ' '.join(s), train_cds))\n",
        "tag_index = cd_tokenizer.word_index                                       # integer encoding of each type of codon to a unique integer value\n",
        "tag_index['__PADDING__'] = 0                                                # 0 value is assigned to dummy used for padding sequences\n",
        "index_tag = {i:w for w, i in tag_index.items()}                             # reverse mapping of integers to codons\n",
        "\n",
        "index_tag_wo_padding = dict(index_tag)\n",
        "index_tag_wo_padding[tag_index['__PADDING__']] = '0'                        # reverse mapping of integer encoding for padding dummy to '0'\n",
        "print('Unique tags:', (tag_index))\n",
        "\n",
        "train_tags = cd_tokenizer.texts_to_sequences(map(lambda s: ' '.join(s), train_cds))   # tokenising output training data\n",
        "val_tags = cd_tokenizer.texts_to_sequences(map(lambda s: ' '.join(s), val_cds))       # tokenising output validation data\n",
        "\n",
        "train_tags_padded = pad_sequences(train_tags, maxlen=MAX_LEN)               # padding output training data to obatin sequences of length MAX_LEN = 2000\n",
        "val_tags_padded = pad_sequences(val_tags, maxlen=MAX_LEN)                   # padding output validation data to obatin sequences of length MAX_LEN = 2000\n",
        "print( train_tags_padded.shape, val_tags_padded.shape)"
      ],
      "execution_count": 11,
      "outputs": [
        {
          "output_type": "stream",
          "text": [
            "Unique tags: {'GAA': 1, 'AAA': 2, 'GAT': 3, 'AAT': 4, 'AAG': 5, 'ATT': 6, 'TTT': 7, 'CAA': 8, 'TTG': 9, 'TTA': 10, 'AAC': 11, 'TCT': 12, 'GGT': 13, 'GTT': 14, 'AGA': 15, 'ATG': 16, 'GAC': 17, 'GCT': 18, 'ACT': 19, 'GAG': 20, 'TCA': 21, 'TAT': 22, 'ATA': 23, 'TTC': 24, 'ACA': 25, 'CCA': 26, 'ATC': 27, 'GCA': 28, 'AGT': 29, 'TAC': 30, 'TCC': 31, 'CAT': 32, 'CCT': 33, 'CTA': 34, 'CTT': 35, 'ACC': 36, 'CAG': 37, 'GTA': 38, 'GCC': 39, 'GTC': 40, 'GGA': 41, 'GTG': 42, 'CTG': 43, 'TGG': 44, 'AGC': 45, 'GGC': 46, 'AGG': 47, 'TCG': 48, 'ACG': 49, 'TGT': 50, 'CAC': 51, 'CCC': 52, 'CGT': 53, 'GCG': 54, 'GGG': 55, 'CTC': 56, 'CCG': 57, 'TGC': 58, 'CGA': 59, 'CGC': 60, 'CGG': 61, 'TAA': 62, 'TGA': 63, 'TAG': 64, '__PADDING__': 0}\n",
            "(5370, 2000) (1343, 2000)\n"
          ],
          "name": "stdout"
        }
      ]
    },
    {
      "cell_type": "code",
      "metadata": {
        "id": "VJg65mFGyVuq",
        "colab_type": "code",
        "colab": {}
      },
      "source": [
        "from keras.layers import Dense, Input, LSTM\n",
        "from keras.models import Model\n",
        "from keras.initializers import Constant\n",
        "from keras.callbacks import EarlyStopping\n",
        "from keras.layers import Embedding, Bidirectional, Dropout\n",
        "\n",
        "# early stopping is used to stop training the model when there is no improvement in validation loss for 10 epochs (defined by patience)\n",
        "earlystopping = EarlyStopping(monitor='val_loss', min_delta=0, patience=10, verbose=1, mode='auto')\n",
        "\n",
        "# embedding layer is used to generate embedding vectors of length 100 for each unique amino acid token\n",
        "embedding_layer = Embedding(VOCAB_SIZE, 100, input_length=MAX_LEN)\n",
        "\n",
        "# input layer that defines the shape of input data \n",
        "sequence_input = Input(shape=(MAX_LEN,), dtype='int32')\n",
        "embedded_sequences = embedding_layer(sequence_input)\n",
        "\n",
        "# bi-directional LSTM layer, where each output value is a probability distribution over 64 possible codons\n",
        "x = Bidirectional(LSTM(64, return_sequences=True))(embedded_sequences)\n",
        "# dropout layer randomly drops out 30% of the neurons to speedup training\n",
        "x = Dropout(0.3)(x)\n",
        "# dense layer, a hidden layer with 32 neuron units with relu activation function\n",
        "x = Dense(32, activation='relu')(x)\n",
        "# output layer with a dimensionality of 65, where each dimension gives a probability of occurrence of a unique codon\n",
        "# softmax activation is used since the output is a multiclass classification with 65 possible categories\n",
        "preds = Dense(len(tag_index), activation='softmax')(x)\n",
        "\n",
        "blstm_model = Model(sequence_input, preds)\n",
        "blstm_model.compile(loss='sparse_categorical_crossentropy',            \n",
        "              optimizer='adam',\n",
        "              metrics=['sparse_categorical_accuracy'])\n",
        "blstm_model.summary()\n",
        "\n",
        "# fitting the bi-directional model on Yeast training data and fine tuning on validation data, with a batch size of 32 and maximum number of epochs = 100\n",
        "# earlystopping is used to avoid overfitting on training data\n",
        "blstm_model.fit(train_sequences_padded, train_tags_padded,\n",
        "          batch_size=32,\n",
        "          epochs=100,\n",
        "          validation_data=(val_sequences_padded, val_tags_padded),\n",
        "          callbacks=[earlystopping])"
      ],
      "execution_count": null,
      "outputs": []
    },
    {
      "cell_type": "code",
      "metadata": {
        "id": "ANCEWRvhyV1x",
        "colab_type": "code",
        "colab": {}
      },
      "source": [
        "# uploading test data obtained from Parts iGem library\n",
        "from google.colab import files\n",
        "from keras.preprocessing.sequence import pad_sequences\n",
        "\n",
        "file = files.upload()\n",
        "print(file)\n",
        "\n",
        "# load Yeast data and filter to get only coding sequences\n",
        "test_data = pd.read_csv('Mixed_CDS.csv')\n",
        "# filter data to extract only sequences\n",
        "test_df = test_data['Part Sequence']\n",
        "\n",
        "test_aas = []\n",
        "test_cds = []\n",
        "\n",
        "for seq in test_df:\n",
        "    cds = codon(seq.upper())                # convert nucleotide sequence to sequence of codons\n",
        "    test_cds.append(cds)\n",
        "    test_aas.append(translate(cds))         # translate codon sequence to a sequence of amino acids\n"
      ],
      "execution_count": null,
      "outputs": []
    },
    {
      "cell_type": "code",
      "metadata": {
        "id": "hwN3Qoe5yV7y",
        "colab_type": "code",
        "colab": {
          "base_uri": "https://localhost:8080/",
          "height": 34
        },
        "outputId": "dcb60001-833d-48a0-a9d7-db2ae6b6e238"
      },
      "source": [
        "# model testing\n",
        "\n",
        "# tokenising amino acid test sequence using he same tokeniser as that used for training data\n",
        "test_seq = aa_tokenizer.texts_to_sequences(map(lambda s: ' '.join(s), test_aas)) \n",
        "# padding tokenised test sequence to convert it to a length of MAX_LEN = 2000\n",
        "padded_test_sequence = pad_sequences(test_seq, maxlen=MAX_LEN)\n",
        "\n",
        "# use the trained bi-directional LSTM model for making predictions on the test data\n",
        "y_hat = blstm_model.predict(padded_test_sequence)\n",
        "\n",
        "# prints the shape of output - 600 test sequences, of length 2000 each, \n",
        "# with an output of probability distribution over 65 values for each input (amino acid) token\n",
        "print(np.asarray(y_hat).shape)\n",
        "\n",
        "tot_prob = []\n",
        "# greedy approach used to find the optimal codon, the one with highest probability vale for each input (amino acid) token\n",
        "for ypred in y_hat:\n",
        "    prob = []\n",
        "    for i in ypred:\n",
        "        prob.append(np.argmax(i))   # retrieves the corresponding codon token with highest probability value for each input (amino acid) token\n",
        "    tot_prob.append(prob)"
      ],
      "execution_count": 14,
      "outputs": [
        {
          "output_type": "stream",
          "text": [
            "(600, 2000, 65)\n"
          ],
          "name": "stdout"
        }
      ]
    },
    {
      "cell_type": "code",
      "metadata": {
        "id": "UqbMij36yWAD",
        "colab_type": "code",
        "colab": {
          "base_uri": "https://localhost:8080/",
          "height": 51
        },
        "outputId": "c389fce4-b45a-4cb7-9517-4740f6589ad8"
      },
      "source": [
        "# function to map each output token back to codon\n",
        "yhat = []\n",
        "def token_to_word(yhat):\n",
        "    for word, index in cd_tokenizer.word_index.items():\n",
        "        if index == yhat:\n",
        "            out_word = word\n",
        "            \n",
        "            return out_word\n",
        "\n",
        "# loop that iterates over each of the predicted test sequences to reverse map output tokens to codons          \n",
        "for prob in tot_prob:\n",
        "    y_hat_cds = []\n",
        "    for i in prob:\n",
        "        if i==0:\n",
        "            continue\n",
        "        else:\n",
        "            y = token_to_word(i)\n",
        "            y_hat_cds.append(y)\n",
        "    yhat.append(y_hat_cds)\n",
        "\n",
        "import statistics\n",
        "cds_acc = []\n",
        "aas_acc = []\n",
        "\n",
        "# function to calculate accuracy of predicting correct synonymous codons for a given sequence of amino acids\n",
        "def cal_acc(ytrue, ypred):\n",
        "    count = 0\n",
        "    min_len = min(len(ytrue), len(ypred))\n",
        "    for i in range(min_len):\n",
        "        if ytrue[i]==ypred[i]:\n",
        "            count+=1\n",
        "\n",
        "    return (count/len(ytrue))\n",
        "\n",
        "# loop that iterates over each predicted test sequence to compute its accuracy of prediction\n",
        "for i in range(len(test_cds)):\n",
        "    yhat_aa = translate(yhat[i])\n",
        "    ytrue_aa = translate(test_cds[i])\n",
        "    cds_acc.append(cal_acc(test_cds[i], yhat[i]))\n",
        "    aas_acc.append(cal_acc(ytrue_aa, yhat_aa))\n",
        "\n",
        "print('Percentage of codons unaltered: ', statistics.mean(cds_acc))\n",
        "print('Accuracy of predicting synonymous codons (same amino acids): ', statistics.mean(aas_acc))"
      ],
      "execution_count": 15,
      "outputs": [
        {
          "output_type": "stream",
          "text": [
            "Percentage of codons unaltered:  0.35851008728709666\n",
            "Accuracy of predicting synonymous codons (same amino acids):  0.9420964316876417\n"
          ],
          "name": "stdout"
        }
      ]
    },
    {
      "cell_type": "code",
      "metadata": {
        "id": "P0U66KgnIR4k",
        "colab_type": "code",
        "colab": {}
      },
      "source": [
        "from pickle import dump\n",
        "# save the model to file\n",
        "blstm_model.save('model.h5')\n",
        "\n",
        "# save the tokenizers\n",
        "dump(aa_tokenizer, open('aa_tokenizer.pkl', 'wb'))\n",
        "dump(cd_tokenizer, open('cd_tokenizer.pkl', 'wb'))"
      ],
      "execution_count": 16,
      "outputs": []
    },
    {
      "cell_type": "code",
      "metadata": {
        "id": "5ulzD0-0ISnP",
        "colab_type": "code",
        "colab": {}
      },
      "source": [
        ""
      ],
      "execution_count": null,
      "outputs": []
    }
  ]
}